{
 "cells": [
  {
   "cell_type": "code",
   "execution_count": 1,
   "id": "662a2a59-57b0-4172-beae-cb0537240393",
   "metadata": {},
   "outputs": [],
   "source": [
    "#Matrices\n",
    "import numpy as np \n",
    "import pandas as pd \n",
    "\n",
    "#Stats\n",
    "import scipy\n",
    "import statsmodels.api as sm \n",
    "import statsmodels.formula.api as smf \n",
    "from itertools import combinations \n",
    "\n",
    "#Plotting\n",
    "import matplotlib.pyplot as plt\n",
    "import seaborn as sns\n",
    "\n",
    "#Misc\n",
    "#!pip install stargazer\n",
    "from stargazer.stargazer import Stargazer #I also have the .py in the folder (in case it fails to install or run)\n",
    "\n",
    "\n",
    "\n"
   ]
  },
  {
   "cell_type": "code",
   "execution_count": null,
   "id": "e4a87c5a-b797-4b0f-8cfb-388cbf07b5e2",
   "metadata": {},
   "outputs": [],
   "source": [
    "data_bank = pd.read_csv(\"bank-additional-full.csv\", sep = \";\")"
   ]
  },
  {
   "cell_type": "code",
   "execution_count": null,
   "id": "34934c59-9bd1-48f2-b786-335e4956b2fd",
   "metadata": {},
   "outputs": [],
   "source": []
  },
  {
   "cell_type": "code",
   "execution_count": null,
   "id": "77e3020b-a483-49e2-8ca3-ed9cc45b3536",
   "metadata": {},
   "outputs": [],
   "source": []
  },
  {
   "cell_type": "code",
   "execution_count": null,
   "id": "cb051153-4519-4c8a-b1d1-e65c492a7b26",
   "metadata": {},
   "outputs": [],
   "source": []
  },
  {
   "cell_type": "code",
   "execution_count": 2,
   "id": "f5602321-fa91-45bf-a2a9-26db52c16c2b",
   "metadata": {},
   "outputs": [
    {
     "data": {
      "text/html": [
       "<table style=\"text-align:center\"><tr><td colspan=\"4\" style=\"border-bottom: 1px solid black\"></td></tr>\n",
       "<tr><td style=\"text-align:left\"></td><td colspan=\"3\"><em>Dependent variable: wage</em></td></tr><tr><td style=\"text-align:left\"></td><tr><td></td><td colspan=\"1\">Biased Unconditional</td><td colspan=\"1\">Biased</td><td colspan=\"1\">Unbiased Conditional</td></tr><tr><td style=\"text-align:left\"></td><td>(1)</td><td>(2)</td><td>(3)</td></tr>\n",
       "<tr><td colspan=\"4\" style=\"border-bottom: 1px solid black\"></td></tr>\n",
       "\n",
       "<tr><td style=\"text-align:left\">Intercept</td><td>2.145<sup>***</sup></td><td>0.192<sup>***</sup></td><td>1.014<sup>***</sup></td></tr>\n",
       "<tr><td style=\"text-align:left\"></td><td>(0.061)</td><td>(0.020)</td><td>(0.018)</td></tr>\n",
       "<tr><td style=\"text-align:left\">ability</td><td></td><td></td><td>2.010<sup>***</sup></td></tr>\n",
       "<tr><td style=\"text-align:left\"></td><td></td><td></td><td>(0.023)</td></tr>\n",
       "<tr><td style=\"text-align:left\">female</td><td>-3.223<sup>***</sup></td><td>0.615<sup>***</sup></td><td>-0.999<sup>***</sup></td></tr>\n",
       "<tr><td style=\"text-align:left\"></td><td>(0.086)</td><td>(0.030)</td><td>(0.029)</td></tr>\n",
       "<tr><td style=\"text-align:left\">occupation</td><td></td><td>1.809<sup>***</sup></td><td>1.001<sup>***</sup></td></tr>\n",
       "<tr><td style=\"text-align:left\"></td><td></td><td>(0.006)</td><td>(0.010)</td></tr>\n",
       "\n",
       "<td colspan=\"4\" style=\"border-bottom: 1px solid black\"></td></tr>\n",
       "<tr><td style=\"text-align: left\">Observations</td><td>10000</td><td>10000</td><td>10000</td></tr><tr><td style=\"text-align: left\">R<sup>2</sup></td><td>0.124</td><td>0.915</td><td>0.953</td></tr><tr><td style=\"text-align: left\">Adjusted R<sup>2</sup></td><td>0.124</td><td>0.915</td><td>0.953</td></tr><tr><td style=\"text-align: left\">Residual Std. Error</td><td>4.280 (df=9998)</td><td>1.335 (df=9997)</td><td>0.997 (df=9996)</td></tr><tr><td style=\"text-align: left\">F Statistic</td><td>1417.091<sup>***</sup> (df=1; 9998)</td><td>53645.643<sup>***</sup> (df=2; 9997)</td><td>66863.404<sup>***</sup> (df=3; 9996)</td></tr>\n",
       "<tr><td colspan=\"4\" style=\"border-bottom: 1px solid black\"></td></tr><tr><td style=\"text-align: left\">Note:</td><td colspan=\"3\" style=\"text-align: right\"><sup>*</sup>p&lt;0.1; <sup>**</sup>p&lt;0.05; <sup>***</sup>p&lt;0.01</td></tr></table>"
      ],
      "text/plain": [
       "<stargazer.stargazer.Stargazer at 0x1b79adae090>"
      ]
     },
     "execution_count": 2,
     "metadata": {},
     "output_type": "execute_result"
    }
   ],
   "source": [
    "tb = pd.DataFrame({\n",
    "    'female': np.random.binomial(1, .5, size=10000),\n",
    "    'ability': np.random.normal(size=10000)})\n",
    "tb['discrimination'] = tb.female.copy()\n",
    "tb['occupation'] = 1 + 2*tb['ability'] + 0*tb['female'] - 2*tb['discrimination'] + np.random.normal(size=10000)\n",
    "tb['wage'] = 1 - 1*tb['discrimination'] + 1*tb['occupation'] + 2*tb['ability'] + np.random.normal(size=10000) \n",
    "\n",
    "\n",
    "\n",
    "lm_1 = sm.OLS.from_formula('wage ~ female', data=tb).fit()\n",
    "lm_2 = sm.OLS.from_formula('wage ~ female + occupation', data=tb).fit()\n",
    "lm_3 = sm.OLS.from_formula('wage ~ female + occupation + ability', data=tb).fit()\n",
    "\n",
    "\n",
    "st = Stargazer((lm_1,lm_2,lm_3))\n",
    "st.custom_columns([\"Biased Unconditional\", \"Biased\", \"Unbiased Conditional\"], [1, 1, 1])\n",
    "st"
   ]
  },
  {
   "cell_type": "code",
   "execution_count": null,
   "id": "b5eb9cc7-bba5-4365-9d6e-817c73ea7c24",
   "metadata": {},
   "outputs": [],
   "source": []
  }
 ],
 "metadata": {
  "kernelspec": {
   "display_name": "Python 3 (ipykernel)",
   "language": "python",
   "name": "python3"
  },
  "language_info": {
   "codemirror_mode": {
    "name": "ipython",
    "version": 3
   },
   "file_extension": ".py",
   "mimetype": "text/x-python",
   "name": "python",
   "nbconvert_exporter": "python",
   "pygments_lexer": "ipython3",
   "version": "3.11.8"
  }
 },
 "nbformat": 4,
 "nbformat_minor": 5
}
