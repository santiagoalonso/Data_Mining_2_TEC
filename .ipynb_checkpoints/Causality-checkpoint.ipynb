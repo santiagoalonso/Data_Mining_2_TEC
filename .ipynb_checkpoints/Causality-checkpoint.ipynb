{
 "cells": [
  {
   "cell_type": "code",
   "execution_count": null,
   "id": "662a2a59-57b0-4172-beae-cb0537240393",
   "metadata": {},
   "outputs": [],
   "source": [
    "#Matrices\n",
    "import numpy as np \n",
    "import pandas as pd \n",
    "\n",
    "#Stats\n",
    "import scipy\n",
    "import statsmodels.api as sm \n",
    "import statsmodels.formula.api as smf \n",
    "from itertools import combinations \n",
    "\n",
    "#Plotting\n",
    "import matplotlib.pyplot as plt\n",
    "import seaborn as sns\n",
    "\n",
    "#Misc\n",
    "#!pip install stargazer\n",
    "from stargazer.stargazer import Stargazer #I also have the .py in the folder (in case it fails to install or run)\n",
    "\n",
    "\n",
    "\n"
   ]
  },
  {
   "cell_type": "code",
   "execution_count": null,
   "id": "f5602321-fa91-45bf-a2a9-26db52c16c2b",
   "metadata": {},
   "outputs": [],
   "source": []
  }
 ],
 "metadata": {
  "kernelspec": {
   "display_name": "Python 3 (ipykernel)",
   "language": "python",
   "name": "python3"
  },
  "language_info": {
   "codemirror_mode": {
    "name": "ipython",
    "version": 3
   },
   "file_extension": ".py",
   "mimetype": "text/x-python",
   "name": "python",
   "nbconvert_exporter": "python",
   "pygments_lexer": "ipython3",
   "version": "3.11.8"
  }
 },
 "nbformat": 4,
 "nbformat_minor": 5
}
