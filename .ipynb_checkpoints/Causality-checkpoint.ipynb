{
 "cells": [
  {
   "cell_type": "code",
   "execution_count": 4,
   "id": "662a2a59-57b0-4172-beae-cb0537240393",
   "metadata": {},
   "outputs": [
    {
     "name": "stdout",
     "output_type": "stream",
     "text": [
      "Running on PyMC v5.17.0\n"
     ]
    }
   ],
   "source": [
    "#Tables and matrices\n",
    "import numpy as np\n",
    "import pandas as pd\n",
    "\n",
    "#Stats\n",
    "import scipy.stats as st\n",
    "from scipy.optimize import fmin\n",
    "from scipy import integrate\n",
    "from scipy.stats.mstats import mquantiles\n",
    "import statsmodels.formula.api as smf\n",
    "import statsmodels.api as sm \n",
    "from statsmodels.stats.diagnostic import het_breuschpagan #Heteroskedasticity test\n",
    "from statsmodels.stats.diagnostic import het_white #Heteroskedasticity test\n",
    "from sklearn.metrics import confusion_matrix\n",
    "from linearmodels import IV2SLS\n",
    "\n",
    "#Probabilistic programs\n",
    "#!pip install numpy mkl #if you are in an intel machine i.e. in mac M# chips no\n",
    "#!pip install pymc\n",
    "#!pip install pytensor\n",
    "import pymc as pm\n",
    "import pytensor.tensor as pt\n",
    "from pymc import do, observe\n",
    "print('Running on PyMC v{}'.format(pm.__version__))\n",
    "\n",
    "\n",
    "#Graphs \n",
    "#IMPORTANT: properly install ipywidgets and nodejs for interactive graphs\n",
    "#If you are in jupyterlab, activate the widget extension (it should be in the latest versions)\n",
    "import seaborn as sns\n",
    "import matplotlib.pyplot as plt\n",
    "from matplotlib import cm\n",
    "from matplotlib.gridspec import GridSpec\n",
    "from matplotlib import animation, rc\n",
    "import matplotlib.ticker as plticker\n",
    "from IPython.display import display, HTML, Markdown\n",
    "import ipywidgets as widgets\n",
    "from ipywidgets import interact, interactive, fixed, HBox, VBox, Layout\n",
    "from mpl_toolkits.mplot3d import axes3d\n",
    "import arviz as az\n",
    "\n",
    "\n",
    "\n",
    "#Misc\n",
    "#!pip install stargazer\n",
    "from stargazer.stargazer import Stargazer #I also have the .py in the folder (in case it fails to install or run)\n",
    "\n"
   ]
  },
  {
   "cell_type": "code",
   "execution_count": null,
   "id": "34934c59-9bd1-48f2-b786-335e4956b2fd",
   "metadata": {},
   "outputs": [],
   "source": []
  },
  {
   "cell_type": "code",
   "execution_count": null,
   "id": "77e3020b-a483-49e2-8ca3-ed9cc45b3536",
   "metadata": {},
   "outputs": [],
   "source": []
  },
  {
   "cell_type": "markdown",
   "id": "72454174-6f0a-45bd-a1b2-824a4de2604b",
   "metadata": {},
   "source": [
    "# Biased estimations without causal structure"
   ]
  },
  {
   "cell_type": "markdown",
   "id": "b89950fc-41c0-4a18-acc1-962046d7fdf3",
   "metadata": {},
   "source": [
    "## Gender discrimination at Google\n",
    "(source: Mixtape text book by Cunningham)"
   ]
  },
  {
   "cell_type": "code",
   "execution_count": 5,
   "id": "f5602321-fa91-45bf-a2a9-26db52c16c2b",
   "metadata": {},
   "outputs": [
    {
     "data": {
      "text/html": [
       "<table style=\"text-align:center\"><tr><td colspan=\"4\" style=\"border-bottom: 1px solid black\"></td></tr>\n",
       "<tr><td style=\"text-align:left\"></td><td colspan=\"3\"><em>Dependent variable: wage</em></td></tr><tr><td style=\"text-align:left\"></td><tr><td></td><td colspan=\"1\">Biased Unconditional</td><td colspan=\"1\">Biased</td><td colspan=\"1\">Unbiased Conditional</td></tr><tr><td style=\"text-align:left\"></td><td>(1)</td><td>(2)</td><td>(3)</td></tr>\n",
       "<tr><td colspan=\"4\" style=\"border-bottom: 1px solid black\"></td></tr>\n",
       "\n",
       "<tr><td style=\"text-align:left\">Intercept</td><td>2.063<sup>***</sup></td><td>0.233<sup>***</sup></td><td>1.018<sup>***</sup></td></tr>\n",
       "<tr><td style=\"text-align:left\"></td><td>(0.061)</td><td>(0.020)</td><td>(0.017)</td></tr>\n",
       "<tr><td style=\"text-align:left\">ability</td><td></td><td></td><td>2.007<sup>***</sup></td></tr>\n",
       "<tr><td style=\"text-align:left\"></td><td></td><td></td><td>(0.022)</td></tr>\n",
       "<tr><td style=\"text-align:left\">female</td><td>-3.053<sup>***</sup></td><td>0.580<sup>***</sup></td><td>-1.022<sup>***</sup></td></tr>\n",
       "<tr><td style=\"text-align:left\"></td><td>(0.085)</td><td>(0.029)</td><td>(0.028)</td></tr>\n",
       "<tr><td style=\"text-align:left\">occupation</td><td></td><td>1.798<sup>***</sup></td><td>0.995<sup>***</sup></td></tr>\n",
       "<tr><td style=\"text-align:left\"></td><td></td><td>(0.006)</td><td>(0.010)</td></tr>\n",
       "\n",
       "<td colspan=\"4\" style=\"border-bottom: 1px solid black\"></td></tr>\n",
       "<tr><td style=\"text-align: left\">Observations</td><td>10000</td><td>10000</td><td>10000</td></tr><tr><td style=\"text-align: left\">R<sup>2</sup></td><td>0.114</td><td>0.912</td><td>0.951</td></tr><tr><td style=\"text-align: left\">Adjusted R<sup>2</sup></td><td>0.114</td><td>0.912</td><td>0.951</td></tr><tr><td style=\"text-align: left\">Residual Std. Error</td><td>4.258 (df=9998)</td><td>1.343 (df=9997)</td><td>1.000 (df=9996)</td></tr><tr><td style=\"text-align: left\">F Statistic</td><td>1284.685<sup>***</sup> (df=1; 9998)</td><td>51695.347<sup>***</sup> (df=2; 9997)</td><td>64890.163<sup>***</sup> (df=3; 9996)</td></tr>\n",
       "<tr><td colspan=\"4\" style=\"border-bottom: 1px solid black\"></td></tr><tr><td style=\"text-align: left\">Note:</td><td colspan=\"3\" style=\"text-align: right\"><sup>*</sup>p&lt;0.1; <sup>**</sup>p&lt;0.05; <sup>***</sup>p&lt;0.01</td></tr></table>"
      ],
      "text/plain": [
       "<stargazer.stargazer.Stargazer at 0x2948d303c50>"
      ]
     },
     "execution_count": 5,
     "metadata": {},
     "output_type": "execute_result"
    }
   ],
   "source": [
    "tb = pd.DataFrame({\n",
    "    'female': np.random.binomial(1, .5, size=10000),\n",
    "    'ability': np.random.normal(size=10000)})\n",
    "tb['discrimination'] = tb.female.copy()\n",
    "tb['occupation'] = 1 + 2*tb['ability'] + 0*tb['female'] - 2*tb['discrimination'] + np.random.normal(size=10000)\n",
    "tb['wage'] = 1 - 1*tb['discrimination'] + 1*tb['occupation'] + 2*tb['ability'] + np.random.normal(size=10000) \n",
    "\n",
    "\n",
    "\n",
    "lm_1 = sm.OLS.from_formula('wage ~ female', data=tb).fit()\n",
    "lm_2 = sm.OLS.from_formula('wage ~ female + occupation', data=tb).fit()\n",
    "lm_3 = sm.OLS.from_formula('wage ~ female + occupation + ability', data=tb).fit()\n",
    "\n",
    "\n",
    "st = Stargazer((lm_1,lm_2,lm_3))\n",
    "st.custom_columns([\"Biased Unconditional\", \"Biased\", \"Unbiased Conditional\"], [1, 1, 1])\n",
    "st"
   ]
  },
  {
   "cell_type": "code",
   "execution_count": null,
   "id": "b5eb9cc7-bba5-4365-9d6e-817c73ea7c24",
   "metadata": {},
   "outputs": [],
   "source": []
  },
  {
   "cell_type": "markdown",
   "id": "8f443ffd-9b4a-489e-9fe1-d483859b6954",
   "metadata": {},
   "source": [
    "# Causal Structures\n",
    "\n",
    "Textbooks by Matheus Facure Alves:\n",
    "\n",
    "* Causal Inference for The Brave and True. https://matheusfacure.github.io/python-causality-handbook/landing-page.html\n",
    "\n",
    "* Causal Inference in Python: Applying Causal Inference in the Tech Industry https://github.com/matheusfacure/causal-inference-in-python-code/tree/main "
   ]
  },
  {
   "cell_type": "markdown",
   "id": "b5263649-2a4b-4dc2-b07c-e4821835dfd0",
   "metadata": {},
   "source": [
    "## Structure 1: Instrumental Variable\n",
    "\n",
    "Bank: prime credit card to its customers. \n",
    "\n",
    "Question: how much the prime card increases customers’ purchase volume (PV).\n",
    "\n",
    "Instrument:  Prime credit card (prime_eligible) to 10,000 customers. 50% chance of being eligible and 50% of being in the control. The bank can’t force customers to choose the card, making this an experiment with non-compliance.\n",
    "\n",
    "Data: customer’s age, income, and credit score. Purchase volume (pv) True effect of the prime card on pv (tau). Group a customer belongs to (prime_elegible). Acceptance of prime card (prime_card). Compliance category (categ)."
   ]
  },
  {
   "cell_type": "code",
   "execution_count": 6,
   "id": "77344557-5996-42bd-91b8-91e3f019b56b",
   "metadata": {},
   "outputs": [
    {
     "data": {
      "text/html": [
       "<div>\n",
       "<style scoped>\n",
       "    .dataframe tbody tr th:only-of-type {\n",
       "        vertical-align: middle;\n",
       "    }\n",
       "\n",
       "    .dataframe tbody tr th {\n",
       "        vertical-align: top;\n",
       "    }\n",
       "\n",
       "    .dataframe thead th {\n",
       "        text-align: right;\n",
       "    }\n",
       "</style>\n",
       "<table border=\"1\" class=\"dataframe\">\n",
       "  <thead>\n",
       "    <tr style=\"text-align: right;\">\n",
       "      <th></th>\n",
       "      <th>age</th>\n",
       "      <th>income</th>\n",
       "      <th>credit_score</th>\n",
       "      <th>prime_elegible</th>\n",
       "      <th>prime_card</th>\n",
       "      <th>pv</th>\n",
       "      <th>tau</th>\n",
       "      <th>categ</th>\n",
       "    </tr>\n",
       "  </thead>\n",
       "  <tbody>\n",
       "    <tr>\n",
       "      <th>0</th>\n",
       "      <td>37.7</td>\n",
       "      <td>9687.0</td>\n",
       "      <td>822.0</td>\n",
       "      <td>0</td>\n",
       "      <td>0</td>\n",
       "      <td>4913.79</td>\n",
       "      <td>700.0</td>\n",
       "      <td>complier</td>\n",
       "    </tr>\n",
       "    <tr>\n",
       "      <th>1</th>\n",
       "      <td>46.0</td>\n",
       "      <td>13731.0</td>\n",
       "      <td>190.0</td>\n",
       "      <td>0</td>\n",
       "      <td>0</td>\n",
       "      <td>5637.66</td>\n",
       "      <td>200.0</td>\n",
       "      <td>never-taker</td>\n",
       "    </tr>\n",
       "    <tr>\n",
       "      <th>2</th>\n",
       "      <td>43.1</td>\n",
       "      <td>2839.0</td>\n",
       "      <td>214.0</td>\n",
       "      <td>1</td>\n",
       "      <td>1</td>\n",
       "      <td>2410.45</td>\n",
       "      <td>700.0</td>\n",
       "      <td>complier</td>\n",
       "    </tr>\n",
       "    <tr>\n",
       "      <th>3</th>\n",
       "      <td>36.0</td>\n",
       "      <td>1206.0</td>\n",
       "      <td>318.0</td>\n",
       "      <td>1</td>\n",
       "      <td>1</td>\n",
       "      <td>1363.06</td>\n",
       "      <td>700.0</td>\n",
       "      <td>complier</td>\n",
       "    </tr>\n",
       "    <tr>\n",
       "      <th>4</th>\n",
       "      <td>39.7</td>\n",
       "      <td>4095.0</td>\n",
       "      <td>430.0</td>\n",
       "      <td>0</td>\n",
       "      <td>0</td>\n",
       "      <td>2189.80</td>\n",
       "      <td>700.0</td>\n",
       "      <td>complier</td>\n",
       "    </tr>\n",
       "  </tbody>\n",
       "</table>\n",
       "</div>"
      ],
      "text/plain": [
       "    age   income  credit_score  prime_elegible  prime_card       pv    tau  \\\n",
       "0  37.7   9687.0         822.0               0           0  4913.79  700.0   \n",
       "1  46.0  13731.0         190.0               0           0  5637.66  200.0   \n",
       "2  43.1   2839.0         214.0               1           1  2410.45  700.0   \n",
       "3  36.0   1206.0         318.0               1           1  1363.06  700.0   \n",
       "4  39.7   4095.0         430.0               0           0  2189.80  700.0   \n",
       "\n",
       "         categ  \n",
       "0     complier  \n",
       "1  never-taker  \n",
       "2     complier  \n",
       "3     complier  \n",
       "4     complier  "
      ]
     },
     "execution_count": 6,
     "metadata": {},
     "output_type": "execute_result"
    }
   ],
   "source": [
    "df = pd.read_csv(\"prime_card.csv\")\n",
    "df.head()"
   ]
  },
  {
   "cell_type": "code",
   "execution_count": 7,
   "id": "ced060be-e281-4666-92b7-a9b71966311a",
   "metadata": {},
   "outputs": [
    {
     "data": {
      "text/html": [
       "<table class=\"simpletable\">\n",
       "<tr>\n",
       "       <td></td>         <th>coef</th>     <th>std err</th>      <th>t</th>      <th>P>|t|</th>  <th>[0.025</th>    <th>0.975]</th>  \n",
       "</tr>\n",
       "<tr>\n",
       "  <th>Intercept</th>  <td> 2534.4947</td> <td>   19.239</td> <td>  131.740</td> <td> 0.000</td> <td> 2496.783</td> <td> 2572.206</td>\n",
       "</tr>\n",
       "<tr>\n",
       "  <th>prime_card</th> <td>  588.1388</td> <td>   41.676</td> <td>   14.112</td> <td> 0.000</td> <td>  506.446</td> <td>  669.831</td>\n",
       "</tr>\n",
       "</table>"
      ],
      "text/latex": [
       "\\begin{center}\n",
       "\\begin{tabular}{lcccccc}\n",
       "\\toprule\n",
       "                     & \\textbf{coef} & \\textbf{std err} & \\textbf{t} & \\textbf{P$> |$t$|$} & \\textbf{[0.025} & \\textbf{0.975]}  \\\\\n",
       "\\midrule\n",
       "\\textbf{Intercept}   &    2534.4947  &       19.239     &   131.740  &         0.000        &     2496.783    &     2572.206     \\\\\n",
       "\\textbf{prime\\_card} &     588.1388  &       41.676     &    14.112  &         0.000        &      506.446    &      669.831     \\\\\n",
       "\\bottomrule\n",
       "\\end{tabular}\n",
       "\\end{center}"
      ],
      "text/plain": [
       "<class 'statsmodels.iolib.table.SimpleTable'>"
      ]
     },
     "execution_count": 7,
     "metadata": {},
     "output_type": "execute_result"
    }
   ],
   "source": [
    "# Let's do a simple OLS and interpret the coef for prime_card\n",
    "m = smf.ols(\"pv~prime_card\", data=df).fit()\n",
    "m.summary().tables[1]"
   ]
  },
  {
   "cell_type": "markdown",
   "id": "192b6551-33c2-4012-998b-c756b15d9d55",
   "metadata": {},
   "source": [
    "Is prime_card endogenous? Yes. Compliance is not imposed, costumers accepted or not i.e. self selection bias. Those who accepted may also a priori had higher purchase volume (pv)."
   ]
  },
  {
   "cell_type": "markdown",
   "id": "501fb132-f8d7-45a3-9b42-12c702fbe885",
   "metadata": {},
   "source": [
    "Two stage least squares logic (2SLS)\n",
    "\n",
    "<img src=\"img/IV_11.png\" width=\"400\"/>"
   ]
  },
  {
   "cell_type": "code",
   "execution_count": 9,
   "id": "12b1e6e6-a87c-4e10-af4f-ab6c35c63dff",
   "metadata": {},
   "outputs": [
    {
     "name": "stdout",
     "output_type": "stream",
     "text": [
      "                          IV-2SLS Estimation Summary                          \n",
      "==============================================================================\n",
      "Dep. Variable:                     pv   R-squared:                      0.0179\n",
      "Estimator:                    IV-2SLS   Adj. R-squared:                 0.0178\n",
      "No. Observations:               10000   F-statistic:                    88.548\n",
      "Date:                Fri, Oct 18 2024   P-value (F-stat)                0.0000\n",
      "Time:                        08:29:18   Distribution:                  chi2(1)\n",
      "Cov. Estimator:                robust                                         \n",
      "                                                                              \n",
      "==============================================================================\n",
      "                             Parameter Estimates                              \n",
      "==============================================================================\n",
      "            Parameter  Std. Err.     T-stat    P-value    Lower CI    Upper CI\n",
      "------------------------------------------------------------------------------\n",
      "Intercept      2498.4     23.955     104.29     0.0000      2451.4      2545.3\n",
      "prime_card     757.70     80.521     9.4100     0.0000      599.88      915.51\n",
      "==============================================================================\n"
     ]
    }
   ],
   "source": [
    "#2SLS regression. \n",
    "formula = 'pv ~ 1 + [prime_card ~ prime_elegible]' #put inside square brackets the first stage\n",
    "iv_model = IV2SLS.from_formula(formula, df).fit(cov_type=\"robust\")\n",
    "print(iv_model.summary.tables[0])\n",
    "print(iv_model.summary.tables[1])"
   ]
  },
  {
   "cell_type": "markdown",
   "id": "1419db06-e55f-4cf4-973f-6108e1821a56",
   "metadata": {},
   "source": [
    "There are 3 requisites for a good instrument:\n",
    "\n",
    "1) Relevance: The instrumental variable must be strongly correlated with the endogenous explanatory variable(s). This means that the instrument should explain a significant portion of the variation in the endogenous variable, helping to mitigate the bias from endogeneity. In practice, this is often tested using the F-statistic in the first stage of two-stage least squares (2SLS).\n",
    "\n",
    "2) Exogeneity: The instrument must be uncorrelated with the error term in the structural equation. This ensures that the instrument only affects the dependent variable through the endogenous explanatory variable and not directly, preventing omitted variable bias or reverse causality from contaminating the results.\n",
    "\n",
    "3) Exclusion Restriction: The instrument should affect the dependent variable only through its influence on the endogenous explanatory variable and not through any other channel. This assumption is critical for isolating the causal effect of the explanatory variable on the dependent variable.\n"
   ]
  },
  {
   "cell_type": "markdown",
   "id": "f809bb78-8145-42ab-8817-9ae6f71bdb15",
   "metadata": {},
   "source": [
    "Let's check if prime_eligible is a good instrument with these 3 requisites.\n",
    "\n",
    "What happened to the coef for prime_card? Is it larger or smaller? If the instrument is good, we should trust the new coef."
   ]
  },
  {
   "cell_type": "code",
   "execution_count": 10,
   "id": "f48e9077-9c4b-4fdf-b637-2bc64ce310ea",
   "metadata": {},
   "outputs": [
    {
     "name": "stdout",
     "output_type": "stream",
     "text": [
      "                          IV-2SLS Estimation Summary                          \n",
      "==============================================================================\n",
      "Dep. Variable:                     pv   R-squared:                      0.9581\n",
      "Estimator:                    IV-2SLS   Adj. R-squared:                 0.9581\n",
      "No. Observations:               10000   F-statistic:                 2.238e+05\n",
      "Date:                Fri, Oct 18 2024   P-value (F-stat)                0.0000\n",
      "Time:                        08:34:09   Distribution:                  chi2(3)\n",
      "Cov. Estimator:                robust                                         \n",
      "                                                                              \n",
      "==============================================================================\n",
      "                             Parameter Estimates                              \n",
      "==============================================================================\n",
      "            Parameter  Std. Err.     T-stat    P-value    Lower CI    Upper CI\n",
      "------------------------------------------------------------------------------\n",
      "Intercept      210.62     37.615     5.5992     0.0000      136.89      284.34\n",
      "income         0.3998     0.0009     469.77     0.0000      0.3981      0.4015\n",
      "age            9.7444     0.8848     11.013     0.0000      8.0102      11.479\n",
      "prime_card     693.12     12.283     56.429     0.0000      669.05      717.19\n",
      "==============================================================================\n"
     ]
    }
   ],
   "source": [
    "# Additional controls (outside square brackets) and instruments (inside square brackets)\n",
    "formula = '''pv ~ 1 \n",
    "+ [prime_card ~ prime_elegible + credit_score]\n",
    "+ income + age'''\n",
    "iv_model = IV2SLS.from_formula(formula, df).fit(cov_type=\"robust\")\n",
    "print(iv_model.summary.tables[0])\n",
    "print(iv_model.summary.tables[1])"
   ]
  },
  {
   "cell_type": "code",
   "execution_count": null,
   "id": "115d0045-4062-4b53-b47b-1db90104785e",
   "metadata": {},
   "outputs": [],
   "source": []
  },
  {
   "cell_type": "markdown",
   "id": "15c26212-0fe0-4bf6-9931-7953bd17e97f",
   "metadata": {},
   "source": [
    "## Structure 2: Confounder\n",
    "\n",
    "https://www.patreon.com/posts/98613437\n",
    "\n",
    "https://www.pymc-labs.com/blog-posts/causal-analysis-with-pymc-answering-what-if-with-the-new-do-operator/\n",
    "\n",
    "https://causalpy.readthedocs.io/"
   ]
  },
  {
   "cell_type": "markdown",
   "id": "c3dcfe9e-ebc2-42bf-a6e9-af7dd218e0a7",
   "metadata": {},
   "source": [
    "For synergies, the marketing area of the bank decided to only activate google ads when tv ads are on. They created, inadvertently, a confounder. \n",
    "<div align=\"center\">\n",
    "  <img src=\"img/Bayes_Causal_2.png\" width=\"500\"/>\n",
    "</div>\n",
    "\n",
    "Assuming this is the correct causal structure, $\\theta_1$ measures the causal effect of $Google_{ads}$ on sales"
   ]
  },
  {
   "cell_type": "markdown",
   "id": "2f691c76-15d3-4c84-b3be-d6da063f30d9",
   "metadata": {},
   "source": [
    "Let's build this generative model with PyMC"
   ]
  },
  {
   "cell_type": "code",
   "execution_count": 92,
   "id": "8eecf811-3f78-48ea-8bb1-7016853e7678",
   "metadata": {},
   "outputs": [
    {
     "data": {
      "text/html": [
       "<div>\n",
       "<style scoped>\n",
       "    .dataframe tbody tr th:only-of-type {\n",
       "        vertical-align: middle;\n",
       "    }\n",
       "\n",
       "    .dataframe tbody tr th {\n",
       "        vertical-align: top;\n",
       "    }\n",
       "\n",
       "    .dataframe thead th {\n",
       "        text-align: right;\n",
       "    }\n",
       "</style>\n",
       "<table border=\"1\" class=\"dataframe\">\n",
       "  <thead>\n",
       "    <tr style=\"text-align: right;\">\n",
       "      <th></th>\n",
       "      <th>Sales</th>\n",
       "      <th>Google_Ads</th>\n",
       "      <th>Tv_Ads</th>\n",
       "    </tr>\n",
       "  </thead>\n",
       "  <tbody>\n",
       "    <tr>\n",
       "      <th>0</th>\n",
       "      <td>0.112651</td>\n",
       "      <td>1</td>\n",
       "      <td>-0.299913</td>\n",
       "    </tr>\n",
       "    <tr>\n",
       "      <th>1</th>\n",
       "      <td>1.956038</td>\n",
       "      <td>1</td>\n",
       "      <td>1.088218</td>\n",
       "    </tr>\n",
       "    <tr>\n",
       "      <th>2</th>\n",
       "      <td>0.377104</td>\n",
       "      <td>0</td>\n",
       "      <td>-0.072353</td>\n",
       "    </tr>\n",
       "    <tr>\n",
       "      <th>3</th>\n",
       "      <td>1.101803</td>\n",
       "      <td>1</td>\n",
       "      <td>0.457618</td>\n",
       "    </tr>\n",
       "    <tr>\n",
       "      <th>4</th>\n",
       "      <td>-1.667207</td>\n",
       "      <td>0</td>\n",
       "      <td>0.153005</td>\n",
       "    </tr>\n",
       "    <tr>\n",
       "      <th>...</th>\n",
       "      <td>...</td>\n",
       "      <td>...</td>\n",
       "      <td>...</td>\n",
       "    </tr>\n",
       "    <tr>\n",
       "      <th>1995</th>\n",
       "      <td>-1.761179</td>\n",
       "      <td>1</td>\n",
       "      <td>-0.488734</td>\n",
       "    </tr>\n",
       "    <tr>\n",
       "      <th>1996</th>\n",
       "      <td>-5.652544</td>\n",
       "      <td>0</td>\n",
       "      <td>-1.258181</td>\n",
       "    </tr>\n",
       "    <tr>\n",
       "      <th>1997</th>\n",
       "      <td>-0.888011</td>\n",
       "      <td>0</td>\n",
       "      <td>-0.036651</td>\n",
       "    </tr>\n",
       "    <tr>\n",
       "      <th>1998</th>\n",
       "      <td>2.228618</td>\n",
       "      <td>0</td>\n",
       "      <td>0.374342</td>\n",
       "    </tr>\n",
       "    <tr>\n",
       "      <th>1999</th>\n",
       "      <td>1.012632</td>\n",
       "      <td>0</td>\n",
       "      <td>0.752864</td>\n",
       "    </tr>\n",
       "  </tbody>\n",
       "</table>\n",
       "<p>2000 rows × 3 columns</p>\n",
       "</div>"
      ],
      "text/plain": [
       "         Sales  Google_Ads    Tv_Ads\n",
       "0     0.112651           1 -0.299913\n",
       "1     1.956038           1  1.088218\n",
       "2     0.377104           0 -0.072353\n",
       "3     1.101803           1  0.457618\n",
       "4    -1.667207           0  0.153005\n",
       "...        ...         ...       ...\n",
       "1995 -1.761179           1 -0.488734\n",
       "1996 -5.652544           0 -1.258181\n",
       "1997 -0.888011           0 -0.036651\n",
       "1998  2.228618           0  0.374342\n",
       "1999  1.012632           0  0.752864\n",
       "\n",
       "[2000 rows x 3 columns]"
      ]
     },
     "execution_count": 92,
     "metadata": {},
     "output_type": "execute_result"
    }
   ],
   "source": [
    "#First load some data.\n",
    "#This is simulated data for pedagogical purposes\n",
    "#The data respects the DAG above (see appendix).\n",
    "#Let's see if we can recuperate the paths\n",
    "df_marketing = pd.read_csv(\"Causal_Marketing.csv\", usecols = lambda column: column != 'Unnamed: 0') \n",
    "df_marketing"
   ]
  },
  {
   "cell_type": "code",
   "execution_count": 93,
   "id": "31ff770d-de12-498d-a1cf-145fc690ef08",
   "metadata": {},
   "outputs": [
    {
     "name": "stderr",
     "output_type": "stream",
     "text": [
      "C:\\Users\\L03552670\\anaconda3\\envs\\PyMC_env\\Lib\\site-packages\\seaborn\\_base.py:949: FutureWarning: When grouping with a length-1 list-like, you will need to pass a length-1 tuple to get_group in a future version of pandas. Pass `(name,)` instead of `name` to silence this warning.\n",
      "  data_subset = grouped_data.get_group(pd_key)\n",
      "C:\\Users\\L03552670\\anaconda3\\envs\\PyMC_env\\Lib\\site-packages\\seaborn\\_base.py:949: FutureWarning: When grouping with a length-1 list-like, you will need to pass a length-1 tuple to get_group in a future version of pandas. Pass `(name,)` instead of `name` to silence this warning.\n",
      "  data_subset = grouped_data.get_group(pd_key)\n"
     ]
    },
    {
     "data": {
      "image/png": "[encoded data removed]",
      "text/plain": [
       "<Figure size 592.361x500 with 1 Axes>"
      ]
     },
     "metadata": {},
     "output_type": "display_data"
    }
   ],
   "source": [
    "ax = sns.displot(data=df_marketing, x=\"Sales\", hue=\"Google_Ads\", kde=True)\n",
    "ax.set(xlabel=\"Sales\");"
   ]
  },
  {
   "cell_type": "markdown",
   "id": "f1c8fc85-4599-4f8b-95c8-e28b0e00c8c6",
   "metadata": {},
   "source": [
    "Google Ads has a positive influence on sales (the \"1\" histogram shifted to the right). However, we know there is no underlying causal effect between them (see appendix, $\\theta_1$ is a mu=0, sigma = 1). The difference is driven by the TV confounder."
   ]
  },
  {
   "cell_type": "code",
   "execution_count": 94,
   "id": "56be6cee-d8e5-4f11-b00e-744267290a28",
   "metadata": {},
   "outputs": [
    {
     "name": "stderr",
     "output_type": "stream",
     "text": [
      "Auto-assigning NUTS sampler...\n",
      "Initializing NUTS using jitter+adapt_diag...\n",
      "Multiprocess sampling (4 chains in 4 jobs)\n",
      "NUTS: [theta_0, theta_2, beta_1, beta_0, theta_1, mu_tv_ads]\n"
     ]
    },
    {
     "data": {
      "application/vnd.jupyter.widget-view+json": {
       "model_id": "aa8c069fc33f4042ba94a8f2068756d4",
       "version_major": 2,
       "version_minor": 0
      },
      "text/plain": [
       "Output()"
      ]
     },
     "metadata": {},
     "output_type": "display_data"
    },
    {
     "data": {
      "text/html": [
       "<pre style=\"white-space:pre;overflow-x:auto;line-height:normal;font-family:Menlo,'DejaVu Sans Mono',consolas,'Courier New',monospace\"></pre>\n"
      ],
      "text/plain": []
     },
     "metadata": {},
     "output_type": "display_data"
    },
    {
     "data": {
      "text/html": [
       "<pre style=\"white-space:pre;overflow-x:auto;line-height:normal;font-family:Menlo,'DejaVu Sans Mono',consolas,'Courier New',monospace\">\n",
       "</pre>\n"
      ],
      "text/plain": [
       "\n"
      ]
     },
     "metadata": {},
     "output_type": "display_data"
    },
    {
     "name": "stderr",
     "output_type": "stream",
     "text": [
      "Sampling 4 chains for 500 tune and 1_000 draw iterations (2_000 + 4_000 draws total) took 111 seconds.\n"
     ]
    }
   ],
   "source": [
    "with pm.Model() as model_inferential: \n",
    "    # priors on sales <- tv_ads -> google_ads\n",
    "    theta_0 = pm.Normal(\"theta_0\", mu=0, sigma=10) #sales baseline \n",
    "    theta_2 = pm.Normal(\"theta_2\", mu=0, sigma=10) #effect of tv ads on sales\n",
    "    beta_1 = pm.Normal(\"beta_1\", mu=0, sigma=10) #effect of tv ads on google ads\n",
    "    \n",
    "    # priors on google ads -> sales causal path\n",
    "    beta_0 = pm.Normal(\"beta_0\", mu=0, sigma=10) #Base level of google ads\n",
    "    theta_1 = pm.Normal(\"theta_1\", mu=0, sigma=10) # effect of google ads on sales\n",
    "\n",
    "    #Prior on mean of tv_ads\n",
    "    mu_tv_ads = pm.Normal(\"mu_tv_ads\", mu=0, sigma=10) \n",
    "\n",
    "\n",
    "    #Likelihoods\n",
    "    tv_ads = pm.Normal(\"tv_ads\", mu = mu_tv_ads, sigma = df_marketing[\"Tv_Ads\"].std(), observed = df_marketing[\"Tv_Ads\"]) \n",
    "    google_ads = pm.Bernoulli(\"google_ads\", p = pm.invlogit(beta_0 + beta_1 * df_marketing[\"Tv_Ads\"]), observed = df_marketing[\"Google_Ads\"])\n",
    "    sales_mu =  theta_0 + (theta_1 * df_marketing[\"Google_Ads\"]) + (theta_2 * df_marketing[\"Tv_Ads\"])\n",
    "    sales = pm.Normal(\"sales\", mu=sales_mu, sigma=df_marketing[\"Sales\"].std(), observed = df_marketing[\"Sales\"])\n",
    "\n",
    "    #Sample posterior\n",
    "    trace = pm.sample(1000,                   # Samples per chain\n",
    "                      tune=500,               # Tuning steps\n",
    "                      chains=4,               # Number of chains\n",
    "                      target_accept=0.8,      # Adjust target acceptance rate \n",
    "                      idata_kwargs={\"log_likelihood\": True}\n",
    "                     ) \n",
    "    "
   ]
  },
  {
   "cell_type": "code",
   "execution_count": 95,
   "id": "ff83fdf2-eb14-4ba8-b2dc-ed08d82bebc5",
   "metadata": {},
   "outputs": [
    {
     "data": {
      "text/html": [
       "<div>\n",
       "<style scoped>\n",
       "    .dataframe tbody tr th:only-of-type {\n",
       "        vertical-align: middle;\n",
       "    }\n",
       "\n",
       "    .dataframe tbody tr th {\n",
       "        vertical-align: top;\n",
       "    }\n",
       "\n",
       "    .dataframe thead th {\n",
       "        text-align: right;\n",
       "    }\n",
       "</style>\n",
       "<table border=\"1\" class=\"dataframe\">\n",
       "  <thead>\n",
       "    <tr style=\"text-align: right;\">\n",
       "      <th></th>\n",
       "      <th>mean</th>\n",
       "      <th>sd</th>\n",
       "      <th>hdi_3%</th>\n",
       "      <th>hdi_97%</th>\n",
       "      <th>mcse_mean</th>\n",
       "      <th>mcse_sd</th>\n",
       "      <th>ess_bulk</th>\n",
       "      <th>ess_tail</th>\n",
       "      <th>r_hat</th>\n",
       "    </tr>\n",
       "  </thead>\n",
       "  <tbody>\n",
       "    <tr>\n",
       "      <th>beta_0</th>\n",
       "      <td>-0.060</td>\n",
       "      <td>0.061</td>\n",
       "      <td>-0.181</td>\n",
       "      <td>0.046</td>\n",
       "      <td>0.001</td>\n",
       "      <td>0.001</td>\n",
       "      <td>5499.0</td>\n",
       "      <td>2963.0</td>\n",
       "      <td>1.0</td>\n",
       "    </tr>\n",
       "    <tr>\n",
       "      <th>beta_1</th>\n",
       "      <td>2.230</td>\n",
       "      <td>0.099</td>\n",
       "      <td>2.040</td>\n",
       "      <td>2.416</td>\n",
       "      <td>0.001</td>\n",
       "      <td>0.001</td>\n",
       "      <td>4819.0</td>\n",
       "      <td>3303.0</td>\n",
       "      <td>1.0</td>\n",
       "    </tr>\n",
       "    <tr>\n",
       "      <th>mu_tv_ads</th>\n",
       "      <td>-0.011</td>\n",
       "      <td>0.022</td>\n",
       "      <td>-0.053</td>\n",
       "      <td>0.029</td>\n",
       "      <td>0.000</td>\n",
       "      <td>0.000</td>\n",
       "      <td>5862.0</td>\n",
       "      <td>3025.0</td>\n",
       "      <td>1.0</td>\n",
       "    </tr>\n",
       "    <tr>\n",
       "      <th>theta_0</th>\n",
       "      <td>-0.039</td>\n",
       "      <td>0.108</td>\n",
       "      <td>-0.232</td>\n",
       "      <td>0.171</td>\n",
       "      <td>0.002</td>\n",
       "      <td>0.002</td>\n",
       "      <td>2737.0</td>\n",
       "      <td>2803.0</td>\n",
       "      <td>1.0</td>\n",
       "    </tr>\n",
       "    <tr>\n",
       "      <th>theta_1</th>\n",
       "      <td>-0.028</td>\n",
       "      <td>0.170</td>\n",
       "      <td>-0.346</td>\n",
       "      <td>0.294</td>\n",
       "      <td>0.003</td>\n",
       "      <td>0.003</td>\n",
       "      <td>2548.0</td>\n",
       "      <td>2549.0</td>\n",
       "      <td>1.0</td>\n",
       "    </tr>\n",
       "    <tr>\n",
       "      <th>theta_2</th>\n",
       "      <td>2.500</td>\n",
       "      <td>0.087</td>\n",
       "      <td>2.344</td>\n",
       "      <td>2.668</td>\n",
       "      <td>0.001</td>\n",
       "      <td>0.001</td>\n",
       "      <td>3338.0</td>\n",
       "      <td>3080.0</td>\n",
       "      <td>1.0</td>\n",
       "    </tr>\n",
       "  </tbody>\n",
       "</table>\n",
       "</div>"
      ],
      "text/plain": [
       "            mean     sd  hdi_3%  hdi_97%  mcse_mean  mcse_sd  ess_bulk  \\\n",
       "beta_0    -0.060  0.061  -0.181    0.046      0.001    0.001    5499.0   \n",
       "beta_1     2.230  0.099   2.040    2.416      0.001    0.001    4819.0   \n",
       "mu_tv_ads -0.011  0.022  -0.053    0.029      0.000    0.000    5862.0   \n",
       "theta_0   -0.039  0.108  -0.232    0.171      0.002    0.002    2737.0   \n",
       "theta_1   -0.028  0.170  -0.346    0.294      0.003    0.003    2548.0   \n",
       "theta_2    2.500  0.087   2.344    2.668      0.001    0.001    3338.0   \n",
       "\n",
       "           ess_tail  r_hat  \n",
       "beta_0       2963.0    1.0  \n",
       "beta_1       3303.0    1.0  \n",
       "mu_tv_ads    3025.0    1.0  \n",
       "theta_0      2803.0    1.0  \n",
       "theta_1      2549.0    1.0  \n",
       "theta_2      3080.0    1.0  "
      ]
     },
     "execution_count": 95,
     "metadata": {},
     "output_type": "execute_result"
    }
   ],
   "source": [
    "summary = az.summary(trace)\n",
    "summary #All rhat should be small, say less than 1.05"
   ]
  },
  {
   "cell_type": "markdown",
   "id": "fd6e46df-d248-4926-834a-4011ba30d3c2",
   "metadata": {},
   "source": [
    "Note how the model does a good job at retrieving the latent parameters (compare mean column of the summary with the data generating process in Appendix).\n",
    "\n",
    "Let's plot $\\theta_1$, the parameter representing the effect of Google ads on sales"
   ]
  },
  {
   "cell_type": "code",
   "execution_count": 100,
   "id": "c96567f0-e31d-4d75-a365-c6a826733111",
   "metadata": {},
   "outputs": [
    {
     "name": "stdout",
     "output_type": "stream",
     "text": [
      "Mean effect of google ads on sales:  -0.028178599509302522\n",
      "\n",
      "Prob. positive effect > 0 of google ads on sales:  0.435\n"
     ]
    },
    {
     "data": {
      "image/png": "[encoded data removed]",
      "text/plain": [
       "<Figure size 640x480 with 1 Axes>"
      ]
     },
     "metadata": {},
     "output_type": "display_data"
    }
   ],
   "source": [
    "posterior = az.extract(trace) #.extract puts together all chains\n",
    "effect_google_ads = np.array(posterior[\"theta_1\"])\n",
    "print(\"Mean effect of google ads on sales: \", effect_google_ads.mean())\n",
    "print(\"\\nProb. positive effect > 0 of google ads on sales: \", (effect_google_ads>0).mean())\n",
    "az.plot_density(effect_google_ads);\n"
   ]
  },
  {
   "cell_type": "markdown",
   "id": "b363c106-7e68-4e03-8028-083eafc0cf6f",
   "metadata": {},
   "source": [
    "The inference places the mean effect close to zero (as it should, see appendix). If anything the probability that Google ads has an effect on sales is negative given our data and model.\n",
    "\n"
   ]
  },
  {
   "cell_type": "markdown",
   "id": "c12a6e64-c6f8-43ea-8cf6-23904b194d40",
   "metadata": {},
   "source": [
    "# Appendix"
   ]
  },
  {
   "cell_type": "markdown",
   "id": "07bdb749-eeaf-4d61-871d-fc7cce818ccc",
   "metadata": {},
   "source": [
    "## Data simulation Google ads"
   ]
  },
  {
   "cell_type": "code",
   "execution_count": 90,
   "id": "e632f63d-f635-45f2-bb31-8d89d6ae48f5",
   "metadata": {},
   "outputs": [
    {
     "name": "stderr",
     "output_type": "stream",
     "text": [
      "Sampling: [beta_0, beta_1, google_ads, sales, sigma_sales, theta_0, theta_1, theta_2, tv_ads]\n"
     ]
    }
   ],
   "source": [
    "with pm.Model() as model_generative: \n",
    "    # priors on sales <- tv_ads -> google_ads\n",
    "    theta_0 = pm.Normal(\"theta_0\") #sales baseline mu=0,sigma=1 because they were z-scored for instance\n",
    "    theta_2 = pm.Normal(\"theta_2\", mu = 2.5, sigma = 0.05) #effect of tv ads on sales\n",
    "    beta_1 = pm.Normal(\"beta_1\", mu = 2.5, sigma = 0.05) #effect of tv ads on google ads\n",
    "    # priors on google ads -> sales causal path\n",
    "    beta_0 = pm.Normal(\"beta_0\") #Base level of google ads\n",
    "    theta_1 = pm.Normal(\"theta_1\") # effect of google ads on sales\n",
    "\n",
    "    #Noise of sales\n",
    "    sigma_sales = pm.HalfNormal(\"sigma_sales\")  # observation noise on sales\n",
    "\n",
    "    #Nodes\n",
    "    tv_ads = pm.Normal(\"tv_ads\", mu=0, sigma=1) #mu=0,sigma=1 because they were z-scored for instance\n",
    "    google_ads = pm.Bernoulli(\"google_ads\", p = pm.invlogit(beta_0 + beta_1 * tv_ads))\n",
    "    sales_mu = pm.Deterministic(\"sales_mu\", theta_0 + (theta_1 * google_ads) + (theta_2 * tv_ads))\n",
    "    sales = pm.Normal(\"sales\", mu=sales_mu, sigma=sigma_sales)\n",
    "    \n",
    "    # Generate prior predictive samples\n",
    "    prior_pred = pm.sample_prior_predictive(samples=2000)\n",
    "\n",
    "   "
   ]
  },
  {
   "cell_type": "code",
   "execution_count": 91,
   "id": "e1721832-69a0-4a15-9a63-952b4a56f1b4",
   "metadata": {
    "scrolled": true
   },
   "outputs": [
    {
     "data": {
      "image/png": "[encoded data removed]",
      "text/plain": [
       "<Figure size 500x500 with 1 Axes>"
      ]
     },
     "metadata": {},
     "output_type": "display_data"
    }
   ],
   "source": [
    "df = pd.DataFrame({\n",
    "    'Sales': np.array(prior_pred.prior[\"sales\"]).flatten(),\n",
    "    'Google_Ads': np.array(prior_pred.prior[\"google_ads\"]).flatten(),\n",
    "    'Tv_Ads': np.array(prior_pred.prior[\"tv_ads\"]).flatten()  \n",
    "})\n",
    "\n",
    "df.to_csv(\"Causal_Marketing.csv\")\n",
    "sns.displot(df, x = \"Sales\");\n"
   ]
  },
  {
   "cell_type": "code",
   "execution_count": null,
   "id": "a3c49166-ca77-404c-8e56-c73af7c64c3e",
   "metadata": {},
   "outputs": [],
   "source": []
  },
  {
   "cell_type": "code",
   "execution_count": null,
   "id": "b73acf82-1c55-46b6-900d-1693fee1e6a9",
   "metadata": {},
   "outputs": [],
   "source": []
  }
 ],
 "metadata": {
  "kernelspec": {
   "display_name": "Python 3 (ipykernel)",
   "language": "python",
   "name": "python3"
  },
  "language_info": {
   "codemirror_mode": {
    "name": "ipython",
    "version": 3
   },
   "file_extension": ".py",
   "mimetype": "text/x-python",
   "name": "python",
   "nbconvert_exporter": "python",
   "pygments_lexer": "ipython3",
   "version": "3.11.9"
  }
 },
 "nbformat": 4,
 "nbformat_minor": 5
}
