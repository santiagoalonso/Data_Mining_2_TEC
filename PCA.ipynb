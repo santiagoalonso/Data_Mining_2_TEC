{
 "cells": [
  {
   "cell_type": "markdown",
   "id": "0be76873-3148-45e5-9151-62189876af8f",
   "metadata": {},
   "source": [
    "# Packages and Functions"
   ]
  },
  {
   "cell_type": "code",
   "execution_count": null,
   "id": "46b279f6-c27b-4f7f-8d4b-262d99d8eebb",
   "metadata": {},
   "outputs": [],
   "source": [
    "#Tables and matrices\n",
    "import numpy as np\n",
    "import pandas as pd\n",
    "\n",
    "#Stats\n",
    "import scipy.stats as st\n",
    "from scipy.optimize import fmin\n",
    "from scipy import integrate\n",
    "from scipy.stats.mstats import mquantiles\n",
    "import statsmodels.formula.api as smf\n",
    "import statsmodels.api as sm \n",
    "from sklearn import linear_model\n",
    "from sklearn.model_selection import train_test_split\n",
    "from sklearn.metrics import accuracy_score\n",
    "from sklearn.linear_model import Ridge, RidgeCV, Lasso, LassoCV\n",
    "from sklearn.preprocessing import StandardScaler\n",
    "from sklearn.decomposition import PCA\n",
    "from patsy import dmatrix\n",
    "from mlxtend.feature_selection import SequentialFeatureSelector\n",
    "\n",
    "#Probabilistic programs\n",
    "#!pip install numpy mkl #if you are in an intel machine i.e. in mac M# chips no\n",
    "#!pip install pymc\n",
    "#!pip install pytensor\n",
    "import pymc as pm\n",
    "import pytensor.tensor as pt\n",
    "#import aesara.tensor as at\n",
    "print('Running on PyMC v{}'.format(pm.__version__))\n",
    "\n",
    "\n",
    "#Graphs \n",
    "#IMPORTANT: properly install ipywidgets and nodejs for interactive graphs\n",
    "#If you are in jupyterlab, activate the widget extension (it should be in the latest versions)\n",
    "import seaborn as sns\n",
    "import matplotlib.pyplot as plt\n",
    "from matplotlib import cm\n",
    "from matplotlib.gridspec import GridSpec\n",
    "from matplotlib import animation, rc\n",
    "from IPython.display import display, HTML, Markdown\n",
    "import ipywidgets as widgets\n",
    "from ipywidgets import interact, interactive, fixed, HBox, VBox, Layout\n",
    "from mpl_toolkits.mplot3d import axes3d\n",
    "import arviz as az\n",
    "\n",
    "#Regular expressions\n",
    "import re"
   ]
  },
  {
   "cell_type": "markdown",
   "id": "3646b22e-ba4b-43ce-a212-dbe9a8a65e80",
   "metadata": {},
   "source": [
    "# Principal Components Analysis (PCA)"
   ]
  },
  {
   "cell_type": "code",
   "execution_count": null,
   "id": "7b0a33b1-6d60-4557-a46c-51a821c8127b",
   "metadata": {},
   "outputs": [],
   "source": [
    " #load data\n",
    "data_bank = pd.read_csv(\"bank-additional-full.csv\", sep = \",\")\n",
    "data_bank.columns = data_bank.columns.str.replace(\".\", \"_\") #avoid dots in python\n",
    "data_bank_dictionary = {\"******** CLIENT DATA ********\": \n",
    "                        {\"age\": \"years\", \"job\": \"type of job\", \"marital\": \"marital status\", \"education\": \"education\", \n",
    "                         \"default\": \"has credit default?\", \"housing\":\"has housing loan\", \"loan\":\"has personal loan?\"},\n",
    "                       \"******** LAST CONTACT CURRENT CAMPAIGN ********\": \n",
    "                        {\"contact\": \"contact communication type\", \"month\": \"last contact month of year\",\n",
    "                        \"day_of_week\": \"last contact day of the week\", \n",
    "                         \"duration\": \"last contact duration, in seconds. Important note: this attribute affects the output target (e.g., if duration=0 then y='no'). Yet, the duration is not known before a call is performed. Also, after the end of the call y is obviously known. Thus, this input should only be included for benchmark purposes and should be discarded if the intention is to have a realistic predictive model\"},\n",
    "                       \"******** OTHER ********\": \n",
    "                        {\"campaign\": \"number of contacts performed during this campaign and for this client\",\n",
    "                        \"pdays\": \"days that passed by after last contact from a previous campaign (999 means not previously contacted)\",\n",
    "                        \"previous\": \"number of contacts performed before this campaign and for this client\",\n",
    "                        \"poutcome\": \"outcome of the previous marketing campaign\"},\n",
    "                       \"******** SOCIOECONOMIC ********\": \n",
    "                        {\"emp.var.rate\": \"employment variation rate - quarterly indicator\",\n",
    "                        \"cons.price.idx\": \"consumer price index - monthly indicator\",\n",
    "                        \"cons.conf.idx\": \"consumer confidence index - monthly indicator\",\n",
    "                        \"euribor3m\": \"euribor 3 month rate - daily indicator\",\n",
    "                        \"nr.employed\": \"number of employees - quarterly indicator\"},\n",
    "                       \"******** DEPENDENT/ENDOGENOUS VARIABLE ********\": \n",
    "                        {\"y\": \"has the client subscribed a term deposit?\"}}\n",
    "data_bank.dtypes"
   ]
  }
 ],
 "metadata": {
  "kernelspec": {
   "display_name": "Python 3 (ipykernel)",
   "language": "python",
   "name": "python3"
  },
  "language_info": {
   "codemirror_mode": {
    "name": "ipython",
    "version": 3
   },
   "file_extension": ".py",
   "mimetype": "text/x-python",
   "name": "python",
   "nbconvert_exporter": "python",
   "pygments_lexer": "ipython3",
   "version": "3.11.8"
  }
 },
 "nbformat": 4,
 "nbformat_minor": 5
}
